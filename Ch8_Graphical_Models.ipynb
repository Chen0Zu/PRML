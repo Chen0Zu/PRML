{
 "cells": [
  {
   "cell_type": "code",
   "execution_count": null,
   "metadata": {},
   "outputs": [],
   "source": [
    "im_path = 'jdrisk.png'\n",
    "im = mping.imread(im_path)\n",
    "A = np.asarray(im).astype(int)\n",
    "A.flags.writeable = True\n",
    "A[A < .5] = -1\n",
    "A[A >= .5] = 1\n",
    "bin_im = A\n",
    "bin_im = bin_im[:,:,1]\n",
    "\n",
    "noise_im = bin_im.copy()\n",
    "for i in range(bin_im.shape[0]):\n",
    "    for j in range(bin_im.shape[1]):\n",
    "        r = np.random.rand()\n",
    "        if r < .1:\n",
    "            noise_im[i][j] = -noise_im[i][j]\n",
    "            \n",
    "alpha = 8\n",
    "beta = 10\n",
    "m, n = noise_im.shape\n",
    "denoise_im = noise_im.copy()\n",
    "max_iter = 10 * m * n\n",
    "for iteration in range(max_iter):\n",
    "    i = np.random.randint(m)\n",
    "    j = np.random.rnadint(n)\n",
    "    \n",
    "    result = alpha * noise_im[i][j]\n",
    "    try:\n",
    "        result += beta * denoise_im[i-1][j]\n",
    "        retult += beta * denoise_im[i+1][j]\n",
    "        result += beta * denoise_im[i][j-1]\n",
    "        result += beta * denoise_im[i][j+1]\n",
    "    except In"
   ]
  }
 ],
 "metadata": {
  "kernelspec": {
   "display_name": "Python 3",
   "language": "python",
   "name": "python3"
  },
  "language_info": {
   "codemirror_mode": {
    "name": "ipython",
    "version": 3
   },
   "file_extension": ".py",
   "mimetype": "text/x-python",
   "name": "python",
   "nbconvert_exporter": "python",
   "pygments_lexer": "ipython3",
   "version": "3.7.1"
  }
 },
 "nbformat": 4,
 "nbformat_minor": 2
}
