{
 "cells": [
  {
   "cell_type": "code",
   "execution_count": 1,
   "metadata": {},
   "outputs": [],
   "source": [
    "import numpy as np\n",
    "import matplotlib.pyplot as plt\n",
    "from cvxopt  import solvers, matrix "
   ]
  },
  {
   "cell_type": "markdown",
   "metadata": {},
   "source": [
    "# 7.1 Maximum Margin Classifiers"
   ]
  },
  {
   "cell_type": "code",
   "execution_count": 70,
   "metadata": {},
   "outputs": [
    {
     "name": "stdout",
     "output_type": "stream",
     "text": [
      "     pcost       dcost       gap    pres   dres\n",
      " 0:  1.0449e-01  1.2408e-01  2e-01  1e+00  4e-16\n",
      " 1:  1.1881e-01  1.2492e-01  3e-03  4e-02  6e-17\n",
      " 2:  1.2494e-01  1.2500e-01  3e-05  3e-04  1e-16\n",
      " 3:  1.2500e-01  1.2500e-01  3e-07  3e-06  2e-16\n",
      " 4:  1.2500e-01  1.2500e-01  3e-09  3e-08  9e-17\n",
      "Optimal solution found.\n",
      "[ 5.00e-01]\n",
      "[ 5.00e-01]\n",
      "[ 2.86e-10]\n",
      "\n"
     ]
    },
    {
     "data": {
      "image/png": "[encoded data removed]",
      "text/plain": [
       "<Figure size 432x288 with 1 Axes>"
      ]
     },
     "metadata": {
      "needs_background": "light"
     },
     "output_type": "display_data"
    }
   ],
   "source": [
    "x_train = np.array([\n",
    "    [0.0, 2.0],\n",
    "    [2.0, 0.0],\n",
    "    [-1.0, -1.0]\n",
    "])\n",
    "y_train = np.array([1.0, 1.0, -1.0]).reshape(-1,1)\n",
    "plt.figure()\n",
    "plt.scatter(x_train[:, 0], x_train[:, 1], c = y_train.flatten(), marker='o', s = 100)\n",
    "\n",
    "n,d = x_train.shape\n",
    "P = matrix(.5*np.diag(np.r_[np.ones([d,1]), np.zeros([1,1])].flatten()))\n",
    "q = matrix(np.zeros([d+1,1]))\n",
    "G = matrix(-np.c_[y_train*x_train, y_train])\n",
    "h = matrix(-np.ones([n,1]))\n",
    "sol = solvers.qp(P, q, G, h)\n",
    "print(sol['x'])\n",
    "\n",
    "x0, x1 = np.meshgrid(np.linspace(-3,3,100), np.linspace(-3,3,100))\n",
    "x = np.c_[x0.reshape(-1,1), x1.reshape(-1,1), np.ones([x0.size,1])]\n",
    "pred = x@np.array(sol['x'])\n",
    "cp = plt.contour(x0, x1, pred.reshape(100,100), np.array([-1,0,1]), colors='k', linestyles = (\"dashed\", \"solid\", \"dashed\"))\n",
    "#plt.contourf(x0, x1, np.sign(pred.reshape(100,100)),2, alpha = .3)\n",
    "plt.clabel(cp, fmt='y=%.f', inline=True, fontsize=15)\n",
    "plt.xlim(-3,3)\n",
    "plt.ylim(-3,3)\n",
    "plt.gca().set_aspect(\"equal\", adjustable=\"box\")"
   ]
  },
  {
   "cell_type": "markdown",
   "metadata": {},
   "source": [
    "# 7.1.1 Overlapping class distributions"
   ]
  },
  {
   "cell_type": "code",
   "execution_count": 66,
   "metadata": {},
   "outputs": [
    {
     "data": {
      "text/plain": [
       "array([[ 0.99999998],\n",
       "       [ 0.99999998],\n",
       "       [-0.99999998]])"
      ]
     },
     "execution_count": 66,
     "metadata": {},
     "output_type": "execute_result"
    }
   ],
   "source": [
    "np.c_[x_train, np.ones([3,1])]@np.array(sol['x'])"
   ]
  },
  {
   "cell_type": "code",
   "execution_count": 57,
   "metadata": {},
   "outputs": [
    {
     "data": {
      "text/plain": [
       "array([5050])"
      ]
     },
     "execution_count": 57,
     "metadata": {},
     "output_type": "execute_result"
    }
   ],
   "source": [
    "sum(z==1)"
   ]
  },
  {
   "cell_type": "code",
   "execution_count": 58,
   "metadata": {},
   "outputs": [
    {
     "data": {
      "text/plain": [
       "array([4950])"
      ]
     },
     "execution_count": 58,
     "metadata": {},
     "output_type": "execute_result"
    }
   ],
   "source": [
    "sum(z==-1)"
   ]
  },
  {
   "cell_type": "code",
   "execution_count": 59,
   "metadata": {},
   "outputs": [
    {
     "data": {
      "text/plain": [
       "array([0])"
      ]
     },
     "execution_count": 59,
     "metadata": {},
     "output_type": "execute_result"
    }
   ],
   "source": [
    "sum(z==0)"
   ]
  },
  {
   "cell_type": "code",
   "execution_count": null,
   "metadata": {},
   "outputs": [],
   "source": []
  }
 ],
 "metadata": {
  "kernelspec": {
   "display_name": "Python 3",
   "language": "python",
   "name": "python3"
  },
  "language_info": {
   "codemirror_mode": {
    "name": "ipython",
    "version": 3
   },
   "file_extension": ".py",
   "mimetype": "text/x-python",
   "name": "python",
   "nbconvert_exporter": "python",
   "pygments_lexer": "ipython3",
   "version": "3.7.1"
  }
 },
 "nbformat": 4,
 "nbformat_minor": 2
}
