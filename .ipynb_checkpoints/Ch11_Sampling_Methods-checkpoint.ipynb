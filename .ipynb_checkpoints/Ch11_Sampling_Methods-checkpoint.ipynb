{
 "cells": [
  {
   "cell_type": "code",
   "execution_count": 1,
   "metadata": {},
   "outputs": [],
   "source": [
    "import numpy as np\n",
    "import matplotlib.pyplot as plt"
   ]
  },
  {
   "cell_type": "markdown",
   "metadata": {},
   "source": [
    "# 11.1.1 Standard distributions"
   ]
  },
  {
   "cell_type": "code",
   "execution_count": 2,
   "metadata": {},
   "outputs": [
    {
     "name": "stderr",
     "output_type": "stream",
     "text": [
      "/anaconda3/lib/python3.7/site-packages/matplotlib/axes/_axes.py:6521: MatplotlibDeprecationWarning: \n",
      "The 'normed' kwarg was deprecated in Matplotlib 2.1 and will be removed in 3.1. Use 'density' instead.\n",
      "  alternative=\"'density'\", removal=\"3.1\")\n"
     ]
    },
    {
     "data": {
      "text/plain": [
       "<Figure size 432x288 with 0 Axes>"
      ]
     },
     "execution_count": 2,
     "metadata": {},
     "output_type": "execute_result"
    },
    {
     "data": {
      "image/png": "[encoded data removed]",
      "text/plain": [
       "<Figure size 432x288 with 1 Axes>"
      ]
     },
     "metadata": {
      "needs_background": "light"
     },
     "output_type": "display_data"
    },
    {
     "data": {
      "image/png": "[encoded data removed]",
      "text/plain": [
       "<Figure size 864x288 with 2 Axes>"
      ]
     },
     "metadata": {
      "needs_background": "light"
     },
     "output_type": "display_data"
    },
    {
     "data": {
      "text/plain": [
       "<Figure size 432x288 with 0 Axes>"
      ]
     },
     "metadata": {},
     "output_type": "display_data"
    }
   ],
   "source": [
    "# Exponential distribution\n",
    "N = 100\n",
    "lambda_ = 0.5\n",
    "y = np.linspace(0, 10, N)\n",
    "py = lambda_*np.exp(-lambda_*y)\n",
    "plt.figure()\n",
    "plt.plot(y,py,c='green')\n",
    "\n",
    "z = np.random.uniform(0,1,3*N)\n",
    "yz = -1/lambda_*np.log(1-z)\n",
    "pyz = lambda_*np.exp(-lambda_*yz)\n",
    "# plt.scatter(yz,pyz,marker='o', s=50, c='',edgecolors='blue')\n",
    "plt.hist(yz, bins=40,normed=1,color='blue',edgecolor=\"black\",alpha=0.7)\n",
    "\n",
    "# Gaussian distribution\n",
    "n = 100000\n",
    "N = 20\n",
    "X = np.zeros([N, n])\n",
    "for i in range(N):\n",
    "    X[i,:] = np.random.uniform(low = 0, high = 1, size = n)\n",
    "    \n",
    "plt.figure(figsize=[12,4])\n",
    "plt.subplot(1,2,1)\n",
    "plt.hist(X.mean(axis=0)-.5, bins=30, normed=1, facecolor='b', edgecolor='black')\n",
    "plt.title('$N = 20$')\n",
    "\n",
    "x1 = np.random.uniform(0,1,n)\n",
    "x2 = np.random.uniform(0,1,n)\n",
    "y1 = np.sqrt(-2*np.log(x1)) * np.cos(2*np.pi*x2)\n",
    "y2 = np.sqrt(-2*np.log(x1)) * np.sin(2*np.pi*x2)\n",
    "y = np.r_[y1,y2]\n",
    "plt.subplot(1,2,2)\n",
    "plt.hist(y,bins=30, normed=1, facecolor='b', edgecolor='black')\n",
    "plt.figure()"
   ]
  },
  {
   "cell_type": "markdown",
   "metadata": {},
   "source": [
    "# 11.1.2 Rejection sampling"
   ]
  },
  {
   "cell_type": "code",
   "execution_count": null,
   "metadata": {},
   "outputs": [],
   "source": []
  },
  {
   "cell_type": "markdown",
   "metadata": {},
   "source": [
    "# 11.2 Markov Chain Monte Carlo"
   ]
  },
  {
   "cell_type": "code",
   "execution_count": null,
   "metadata": {},
   "outputs": [],
   "source": []
  },
  {
   "cell_type": "markdown",
   "metadata": {},
   "source": [
    "# 11.2.2 The Metropolis-Hastings algorithm"
   ]
  },
  {
   "cell_type": "code",
   "execution_count": null,
   "metadata": {},
   "outputs": [],
   "source": []
  }
 ],
 "metadata": {
  "kernelspec": {
   "display_name": "Python 3",
   "language": "python",
   "name": "python3"
  },
  "language_info": {
   "codemirror_mode": {
    "name": "ipython",
    "version": 3
   },
   "file_extension": ".py",
   "mimetype": "text/x-python",
   "name": "python",
   "nbconvert_exporter": "python",
   "pygments_lexer": "ipython3",
   "version": "3.7.1"
  }
 },
 "nbformat": 4,
 "nbformat_minor": 2
}
